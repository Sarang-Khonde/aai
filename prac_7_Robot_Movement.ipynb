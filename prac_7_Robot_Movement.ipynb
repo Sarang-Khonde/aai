{
  "nbformat": 4,
  "nbformat_minor": 0,
  "metadata": {
    "colab": {
      "provenance": [],
      "authorship_tag": "ABX9TyMxS+pQ1LmFGscFvF9xneIC",
      "include_colab_link": true
    },
    "kernelspec": {
      "name": "python3",
      "display_name": "Python 3"
    },
    "language_info": {
      "name": "python"
    }
  },
  "cells": [
    {
      "cell_type": "markdown",
      "metadata": {
        "id": "view-in-github",
        "colab_type": "text"
      },
      "source": [
        "<a href=\"https://colab.research.google.com/github/Sarang-Khonde/aai/blob/main/prac_7_Robot_Movement.ipynb\" target=\"_parent\"><img src=\"https://colab.research.google.com/assets/colab-badge.svg\" alt=\"Open In Colab\"/></a>"
      ]
    },
    {
      "cell_type": "code",
      "execution_count": 1,
      "metadata": {
        "colab": {
          "base_uri": "https://localhost:8080/"
        },
        "id": "_WQ55LAwHweT",
        "outputId": "da407488-ddbd-480a-f47b-e994903d7c03"
      },
      "outputs": [
        {
          "output_type": "stream",
          "name": "stdout",
          "text": [
            "Robot moving forward\n",
            "Robot turning left\n",
            "Robot moving forward\n",
            "Robot turning right\n",
            "Robot moving backward\n",
            "Robot stopped\n",
            "\n",
            "--- Robot Control Panel ---\n",
            "Commands: F=Forward, B=Backward, L=Left, R=Right, S=Stop, Q=Quit\n",
            "Enter command: F\n",
            "Robot moving forward\n",
            "Enter command: B\n",
            "Robot moving backward\n",
            "Enter command: L\n",
            "Robot turning left\n",
            "Enter command: R\n",
            "Robot turning right\n",
            "Enter command: Q\n",
            "Exiting robot control.\n"
          ]
        }
      ],
      "source": [
        "def move_forward():\n",
        "    print(\"Robot moving forward\")\n",
        "\n",
        "def move_backward():\n",
        "    print(\"Robot moving backward\")\n",
        "\n",
        "def turn_left():\n",
        "    print(\"Robot turning left\")\n",
        "\n",
        "def turn_right():\n",
        "    print(\"Robot turning right\")\n",
        "\n",
        "def stop():\n",
        "    print(\"Robot stopped\")\n",
        "\n",
        "move_forward()\n",
        "turn_left()\n",
        "move_forward()\n",
        "turn_right()\n",
        "move_backward()\n",
        "stop()\n",
        "\n",
        "print(\"\\n--- Robot Control Panel ---\")\n",
        "print(\"Commands: F=Forward, B=Backward, L=Left, R=Right, S=Stop, Q=Quit\")\n",
        "\n",
        "while True:\n",
        "    command = input(\"Enter command: \").upper()\n",
        "\n",
        "    if command == \"F\":\n",
        "        move_forward()\n",
        "    elif command == \"B\":\n",
        "        move_backward()\n",
        "    elif command == \"L\":\n",
        "        turn_left()\n",
        "    elif command == \"R\":\n",
        "        turn_right()\n",
        "    elif command == \"S\":\n",
        "        stop()\n",
        "    elif command == \"Q\":\n",
        "        print(\"Exiting robot control.\")\n",
        "        break\n",
        "    else:\n",
        "        print(\"Invalid command! Please enter F, B, L, R, S, or Q.\")\n"
      ]
    }
  ]
}
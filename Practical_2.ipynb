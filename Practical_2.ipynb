{
  "nbformat": 4,
  "nbformat_minor": 0,
  "metadata": {
    "colab": {
      "provenance": [],
      "authorship_tag": "ABX9TyPwtqWu41OZ+oz6a0Mw3jhw",
      "include_colab_link": true
    },
    "kernelspec": {
      "name": "python3",
      "display_name": "Python 3"
    },
    "language_info": {
      "name": "python"
    }
  },
  "cells": [
    {
      "cell_type": "markdown",
      "metadata": {
        "id": "view-in-github",
        "colab_type": "text"
      },
      "source": [
        "<a href=\"https://colab.research.google.com/github/Sarang-Khonde/aai/blob/main/Practical_2.ipynb\" target=\"_parent\"><img src=\"https://colab.research.google.com/assets/colab-badge.svg\" alt=\"Open In Colab\"/></a>"
      ]
    },
    {
      "cell_type": "code",
      "execution_count": 1,
      "metadata": {
        "colab": {
          "base_uri": "https://localhost:8080/"
        },
        "id": "bPD94OrnHQj3",
        "outputId": "ea53bb79-3c88-40b3-f5e7-8bdf06f1a963"
      },
      "outputs": [
        {
          "output_type": "stream",
          "name": "stdout",
          "text": [
            "\n",
            "Executing Plan for Goal: Daily Workout Routine\n",
            "\n",
            "Executing subgoal: Strength Training\n",
            "Executing action: Do weight training\n",
            "\n",
            "Executing subgoal: Cardio Workout\n",
            "Cannot execute action: Run on the treadmill. Preconditions not met.\n",
            "Executing action: Go for an outdoor run\n"
          ]
        }
      ],
      "source": [
        "class Action:\n",
        "    def __init__(self, description, preconditions=None):\n",
        "        self.description = description\n",
        "        self.preconditions = preconditions or []\n",
        "\n",
        "    def execute(self):\n",
        "        if self.check_preconditions():\n",
        "            print(f\"Executing action: {self.description}\")\n",
        "        else:\n",
        "            print(f\"Cannot execute action: {self.description}. Preconditions not met.\")\n",
        "\n",
        "    def check_preconditions(self):\n",
        "        return all(cond() for cond in self.preconditions)  # Call each function\n",
        "class Subgoal:\n",
        "    def __init__(self, description):\n",
        "        self.description = description\n",
        "        self.actions = []\n",
        "    def add_action(self, action):\n",
        "        self.actions.append(action)\n",
        "    def execute(self):\n",
        "        print(f\"\\nExecuting subgoal: {self.description}\")\n",
        "        for action in self.actions:\n",
        "            action.execute()\n",
        "class Plan:\n",
        "    def __init__(self, goal):\n",
        "        self.goal = goal\n",
        "        self.subgoals = []\n",
        "    def add_subgoal(self, subgoal):\n",
        "        self.subgoals.append(subgoal)\n",
        "    def execute(self):\n",
        "        print(f\"\\nExecuting Plan for Goal: {self.goal}\")\n",
        "        for subgoal in self.subgoals:\n",
        "            subgoal.execute()\n",
        "def has_energy():\n",
        "    return True  # Assume you have energy to work out\n",
        "def gym_is_open():\n",
        "    return False  # Assume the gym is closed\n",
        "def has_dumbbells():\n",
        "    return True  # Assume dumbbells are available\n",
        "def has_running_shoes():\n",
        "    return True  # Assume you have running shoes\n",
        "# Defining actions\n",
        "action1 = Action(\"Do weight training\", preconditions=[has_energy, has_dumbbells])\n",
        "action2 = Action(\"Run on the treadmill\", preconditions=[has_energy, gym_is_open])\n",
        "action3 = Action(\"Go for an outdoor run\", preconditions=[has_energy, has_running_shoes])\n",
        "# Creating subgoals\n",
        "subgoal1 = Subgoal(\"Strength Training\")\n",
        "subgoal1.add_action(action1)\n",
        "\n",
        "subgoal2 = Subgoal(\"Cardio Workout\")\n",
        "subgoal2.add_action(action2)\n",
        "subgoal2.add_action(action3)\n",
        "# Creating a workout plan\n",
        "workout_plan = Plan(\"Daily Workout Routine\")\n",
        "\n",
        "# Adding subgoals to the workout plan\n",
        "workout_plan.add_subgoal(subgoal1)\n",
        "workout_plan.add_subgoal(subgoal2)\n",
        "\n",
        "# Executing the workout plan\n",
        "workout_plan.execute()\n"
      ]
    }
  ]
}
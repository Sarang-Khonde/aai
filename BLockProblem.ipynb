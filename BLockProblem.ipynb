{
  "nbformat": 4,
  "nbformat_minor": 0,
  "metadata": {
    "colab": {
      "provenance": [],
      "authorship_tag": "ABX9TyPLUmBfaRPOJ335a4iQksqp",
      "include_colab_link": true
    },
    "kernelspec": {
      "name": "python3",
      "display_name": "Python 3"
    },
    "language_info": {
      "name": "python"
    }
  },
  "cells": [
    {
      "cell_type": "markdown",
      "metadata": {
        "id": "view-in-github",
        "colab_type": "text"
      },
      "source": [
        "<a href=\"https://colab.research.google.com/github/Sarang-Khonde/aai/blob/main/BLockProblem.ipynb\" target=\"_parent\"><img src=\"https://colab.research.google.com/assets/colab-badge.svg\" alt=\"Open In Colab\"/></a>"
      ]
    },
    {
      "cell_type": "code",
      "execution_count": 3,
      "metadata": {
        "colab": {
          "base_uri": "https://localhost:8080/",
          "height": 399
        },
        "id": "UexXIbyaVIy5",
        "outputId": "08a16b45-2fdf-4e01-f9b1-19c7d46675c7"
      },
      "outputs": [
        {
          "output_type": "stream",
          "name": "stdout",
          "text": [
            "Initial state and Goal state:\n"
          ]
        },
        {
          "output_type": "display_data",
          "data": {
            "text/plain": [
              "<Figure size 640x480 with 1 Axes>"
            ],
            "image/png": "[encoded data removed]"
          },
          "metadata": {}
        },
        {
          "output_type": "stream",
          "name": "stdout",
          "text": [
            "Executing: PICKUP(C)\n",
            "Executing: PUTDOWN(C)\n",
            "Executing: UNSTACK(B,A)\n",
            "Executing: PUTDOWN(B)\n",
            "Executing: PICKUP(C)\n",
            "Executing: STACK(C,A)\n",
            "Executing: PICKUP(B)\n",
            "Executing: STACK(B,D)\n"
          ]
        }
      ],
      "source": [
        "import matplotlib.pyplot as plt\n",
        "import matplotlib.patches as patches\n",
        "\n",
        "# Visualize Blocks World (initial and goal states)\n",
        "class BlocksWorldVisualizer:\n",
        "\n",
        "    def __init__(self, world_state, goal_state=None):\n",
        "        self.world_state = world_state\n",
        "        self.goal_state = goal_state\n",
        "        self.fig, self.ax = plt.subplots()\n",
        "\n",
        "    def draw(self):\n",
        "        self.ax.clear()\n",
        "\n",
        "        # Set the limits of the plot to accommodate both initial and goal state visualizations\n",
        "        self.ax.set_xlim(-2, 10)\n",
        "        self.ax.set_ylim(-1, 4)\n",
        "        self.ax.set_aspect('equal', 'box')\n",
        "\n",
        "        # Draw the initial world state on the left\n",
        "        self.draw_state(self.world_state, offset=0, label=\"Initial State\")\n",
        "\n",
        "        # Draw the goal world state on the right (if given)\n",
        "        if self.goal_state:\n",
        "            self.draw_state(self.goal_state, offset=6, label=\"Goal State\")\n",
        "\n",
        "        self.ax.axis('off')  # Turn off the axes\n",
        "        plt.show()\n",
        "\n",
        "    def draw_state(self, world_state, offset, label):\n",
        "        self.ax.text(offset + 1, 3, label, ha='center', va='center', fontsize=14, fontweight='bold')\n",
        "\n",
        "        # Draw blocks on the table\n",
        "        on_table = [pred.X for pred in world_state if isinstance(pred, ONTABLE)]\n",
        "        for i, block in enumerate(on_table):\n",
        "            self.ax.add_patch(patches.Rectangle((i * 2 + offset, 0), 1, 1, edgecolor=\"black\", facecolor=\"skyblue\"))\n",
        "            self.ax.text(i * 2 + offset + 0.5, 0.5, block, color=\"black\", ha=\"center\", va=\"center\", fontsize=12)\n",
        "\n",
        "        # Draw stacked blocks\n",
        "        on = [pred for pred in world_state if isinstance(pred, ON)]\n",
        "        for pred in on:\n",
        "            self.ax.add_patch(patches.Rectangle((on_table.index(pred.Y) * 2 + offset, 1), 1, 1, edgecolor=\"black\", facecolor=\"lightgreen\"))\n",
        "            self.ax.text(on_table.index(pred.Y) * 2 + offset + 0.5, 1.5, pred.X, color=\"black\", ha=\"center\", va=\"center\", fontsize=12)\n",
        "\n",
        "        # Draw the agent's hand\n",
        "        holding = [pred.X for pred in world_state if isinstance(pred, HOLDING)]\n",
        "        for block in holding:\n",
        "            self.ax.add_patch(patches.Circle((offset + 3, 2), 0.5, edgecolor=\"black\", facecolor=\"orange\"))\n",
        "            self.ax.text(offset + 3, 2, block, color=\"black\", ha=\"center\", va=\"center\", fontsize=12)\n",
        "\n",
        "# Modified GoalStackPlanner with Graphical Output for both initial and goal states\n",
        "class GoalStackPlannerWithVisualization(GoalStackPlanner):\n",
        "\n",
        "    def __init__(self, initial_state, goal_state):\n",
        "        super().__init__(initial_state, goal_state)\n",
        "        self.visualizer = BlocksWorldVisualizer(initial_state, goal_state)\n",
        "\n",
        "    def get_steps(self):\n",
        "        steps = super().get_steps()  # Get the list of operations (steps)\n",
        "\n",
        "        # Visualize the initial and goal state side by side\n",
        "        print(\"Initial state and Goal state:\")\n",
        "        self.visualizer.draw()\n",
        "\n",
        "        # Apply the steps and visualize after each step\n",
        "        for step in steps:\n",
        "            print(f\"Executing: {step}\")\n",
        "            self.visualizer.world_state = self.apply_step(step)\n",
        "            self.visualizer.draw()  # Show the updated world state\n",
        "\n",
        "        return steps\n",
        "\n",
        "    def apply_step(self, step):\n",
        "        world_state = self.visualizer.world_state.copy()\n",
        "\n",
        "        # Apply the action (update world state)\n",
        "        for delete_pred in step.delete():\n",
        "            if delete_pred in world_state:\n",
        "                world_state.remove(delete_pred)\n",
        "        for add_pred in step.add():\n",
        "            if add_pred not in world_state:\n",
        "                world_state.append(add_pred)\n",
        "\n",
        "        return world_state\n",
        "\n",
        "\n",
        "# Define the initial and goal states\n",
        "initial_state = [\n",
        "    ON('B', 'A'),\n",
        "    ONTABLE('A'), ONTABLE('C'), ONTABLE('D'),\n",
        "    CLEAR('B'), CLEAR('C'), CLEAR('D'),\n",
        "    ARMEMPTY()\n",
        "]\n",
        "\n",
        "goal_state = [\n",
        "    ON('B', 'D'), ON('C', 'A'),\n",
        "    ONTABLE('D'), ONTABLE('A'),\n",
        "    CLEAR('B'), CLEAR('C'),\n",
        "    ARMEMPTY()\n",
        "]\n",
        "\n",
        "# Create GoalStackPlanner with Visualization\n",
        "goal_stack = GoalStackPlannerWithVisualization(initial_state=initial_state, goal_state=goal_state)\n",
        "steps = goal_stack.get_steps()\n"
      ]
    },
    {
      "cell_type": "markdown",
      "source": [],
      "metadata": {
        "id": "Lbl0mmDebayO"
      }
    },
    {
      "cell_type": "markdown",
      "source": [
        "1.** Problem Setup:**\n",
        "State Representation: Involves blocks that can be on top of other blocks, on\n",
        "the table, or held by the robot arm.\n",
        "\n",
        "**Actions**: Key actions include Pickup, Putdown, Stack, and Unstack.\n",
        "\n",
        "2. **Predicates:**\n",
        "ON(A, B): Block A is on top of block B.\n",
        "ONTABLE(A): Block A is on the table.\n",
        "CLEAR(A): Block A has no block on top of it.\n",
        "HOLDING(A): The robot is holding block A.\n",
        "ARMEMPTY: The robot's arm is empty.\n",
        "\n",
        "3. **Goal State:**\n",
        "The goal is to arrange the blocks in a specified configuration (e.g., one block on top of another or all blocks on the table).\n",
        "\n",
        "4. **Search Space:**\n",
        "The state space involves all possible configurations of blocks and robot actions.\n",
        "\n",
        "5. **Solution Techniques:**\n",
        "State-Space Search: Algorithms like BFS, DFS, and A* are commonly used to search for a path to the goal state.\n",
        "STRIPS Representation: Actions are defined by preconditions, effects, and outcomes.\n",
        "\n",
        "6. **Challenges:**\n",
        "Complexity: The problem grows exponentially as the number of blocks increases.\n",
        "Backtracking: Some actions may require backtracking to find the correct sequence.\n",
        "\n",
        "7. **Applications:**\n",
        "Used in AI planning, robotics, and puzzle-solving.\n",
        "8. Extensions:\n",
        "Multiple Arms: Multiple arms manipulating blocks.\n",
        "Dynamic Obstacles: Obstacles that move and block actions."
      ],
      "metadata": {
        "id": "RPdVWtA6bbsO"
      }
    }
  ]
}
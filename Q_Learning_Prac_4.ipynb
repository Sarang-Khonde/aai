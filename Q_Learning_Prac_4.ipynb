{
  "nbformat": 4,
  "nbformat_minor": 0,
  "metadata": {
    "colab": {
      "provenance": [],
      "authorship_tag": "ABX9TyOU9s4KddDb7pHrCkO98er8",
      "include_colab_link": true
    },
    "kernelspec": {
      "name": "python3",
      "display_name": "Python 3"
    },
    "language_info": {
      "name": "python"
    }
  },
  "cells": [
    {
      "cell_type": "markdown",
      "metadata": {
        "id": "view-in-github",
        "colab_type": "text"
      },
      "source": [
        "<a href=\"https://colab.research.google.com/github/Sarang-Khonde/aai/blob/main/Q_Learning_Prac_4.ipynb\" target=\"_parent\"><img src=\"https://colab.research.google.com/assets/colab-badge.svg\" alt=\"Open In Colab\"/></a>"
      ]
    },
    {
      "cell_type": "code",
      "execution_count": 4,
      "metadata": {
        "colab": {
          "base_uri": "https://localhost:8080/"
        },
        "id": "gtdIS_bYpDa-",
        "outputId": "d6332a7a-e782-4a39-b586-f4717b3f8d63"
      },
      "outputs": [
        {
          "output_type": "stream",
          "name": "stdout",
          "text": [
            "Grid Layout (Environment):\n",
            "----------------------------\n",
            "S . . . .\n",
            ". O . O .\n",
            ". . O . .\n",
            ". . O . .\n",
            ". . . . G\n",
            "\n",
            "\n",
            "Rewards Table:\n",
            "--------------\n",
            "-1.0 -1.0 -1.0 -1.0 -1.0\n",
            "-1.0 -10.0 -1.0 -10.0 -1.0\n",
            "-1.0 -1.0 -10.0 -1.0 -1.0\n",
            "-1.0 -1.0 -10.0 -1.0 -1.0\n",
            "-1.0 -1.0 -1.0 -1.0 10.0\n",
            "\n",
            "\n"
          ]
        }
      ],
      "source": [
        "import numpy as np\n",
        "\n",
        "grid_size = 5\n",
        "\n",
        "# Create an empty grid with '.' (dot) representing empty spaces\n",
        "grid = np.full((grid_size, grid_size), '.')\n",
        "\n",
        "# Define the start (S) and goal (G) positions\n",
        "start = (0, 0)  # Starting point at top-left corner\n",
        "goal = (4, 4)   # Goal point at bottom-right corner\n",
        "\n",
        "#  obstacle positions\n",
        "obstacles = [(1, 1), (1, 3), (2, 2), (3, 2)]\n",
        "\n",
        "# Set the start and goal positions\n",
        "grid[start] = 'S'\n",
        "grid[goal] = 'G'\n",
        "\n",
        "# Place obstacles in the grid\n",
        "for (i, j) in obstacles:\n",
        "    grid[i, j] = 'O'\n",
        "\n",
        "# Reward grid initialization\n",
        "rewards_grid = np.zeros((grid_size, grid_size))\n",
        "\n",
        "# Reward values\n",
        "reward_goal = 10   # Goal reward\n",
        "reward_empty = -1  # Small penalty for empty spaces\n",
        "reward_obstacle = -10  # Large penalty for obstacles\n",
        "reward_start = 0  # No reward for the start\n",
        "\n",
        "# Set the rewards based on the environment\n",
        "rewards_grid[start] = reward_start\n",
        "rewards_grid[goal] = reward_goal\n",
        "\n",
        "# Assign obstacle rewards\n",
        "for (i, j) in obstacles:\n",
        "    rewards_grid[i, j] = reward_obstacle\n",
        "\n",
        "# For empty spaces (not start, goal, or obstacles), set a small penalty\n",
        "for i in range(grid_size):\n",
        "    for j in range(grid_size):\n",
        "        if rewards_grid[i, j] == 0:  # Means it's not start, goal, or obstacle\n",
        "            rewards_grid[i, j] = reward_empty\n",
        "\n",
        "# Function to print the grid layout\n",
        "def print_grid(grid):\n",
        "    print(\"Grid Layout (Environment):\")\n",
        "    print(\"----------------------------\")\n",
        "    for row in grid:\n",
        "        print(' '.join(row))\n",
        "    print(\"\\n\")\n",
        "\n",
        "# Function to print the reward grid\n",
        "def print_rewards_grid(rewards_grid):\n",
        "    print(\"Rewards Table:\")\n",
        "    print(\"--------------\")\n",
        "    for row in rewards_grid:\n",
        "        print(' '.join([f\"{reward:4}\" for reward in row]))\n",
        "    print(\"\\n\")\n",
        "\n",
        "# Display both the grid layout and the reward grid\n",
        "print_grid(grid)\n",
        "print_rewards_grid(rewards_grid)\n"
      ]
    }
  ]
}
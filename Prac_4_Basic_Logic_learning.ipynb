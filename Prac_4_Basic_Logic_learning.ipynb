{
  "nbformat": 4,
  "nbformat_minor": 0,
  "metadata": {
    "colab": {
      "provenance": [],
      "authorship_tag": "ABX9TyPlBt/gyisWbe6MZWFgYrid",
      "include_colab_link": true
    },
    "kernelspec": {
      "name": "python3",
      "display_name": "Python 3"
    },
    "language_info": {
      "name": "python"
    }
  },
  "cells": [
    {
      "cell_type": "markdown",
      "metadata": {
        "id": "view-in-github",
        "colab_type": "text"
      },
      "source": [
        "<a href=\"https://colab.research.google.com/github/Sarang-Khonde/aai/blob/main/Prac_4_Basic_Logic_learning.ipynb\" target=\"_parent\"><img src=\"https://colab.research.google.com/assets/colab-badge.svg\" alt=\"Open In Colab\"/></a>"
      ]
    },
    {
      "cell_type": "code",
      "execution_count": 2,
      "metadata": {
        "id": "W57IwQCSm0j2",
        "colab": {
          "base_uri": "https://localhost:8080/"
        },
        "outputId": "3557f907-0ea0-4586-8110-f5f44632b98b"
      },
      "outputs": [
        {
          "output_type": "stream",
          "name": "stdout",
          "text": [
            "Inferred Knowledge: [B, C]\n"
          ]
        }
      ],
      "source": [
        "from sympy import symbols, Implies\n",
        "\n",
        "class LogicLearningSystem:\n",
        "    def __init__(self):\n",
        "        self.rules = []\n",
        "        self.known_facts = set()  # Stores initial known facts\n",
        "\n",
        "    def add_rule(self, rule):\n",
        "        \"\"\"Adds a logical rule to the system.\"\"\"\n",
        "        self.rules.append(rule)\n",
        "\n",
        "    def add_example(self, example):\n",
        "        \"\"\"Adds an example (fact) to the system.\"\"\"\n",
        "        self.known_facts.add(example)\n",
        "\n",
        "    def infer(self):\n",
        "        \"\"\"Infers new knowledge iteratively using the given rules.\"\"\"\n",
        "        inferred_facts = set(self.known_facts)  # Start with known facts\n",
        "        new_inferences = True\n",
        "\n",
        "        while new_inferences:\n",
        "            new_inferences = False\n",
        "            for rule in self.rules:\n",
        "                if isinstance(rule, Implies):\n",
        "                    premise, conclusion = rule.args\n",
        "                    if premise in inferred_facts and conclusion not in inferred_facts:\n",
        "                        inferred_facts.add(conclusion)\n",
        "                        new_inferences = True\n",
        "\n",
        "        return sorted(inferred_facts - self.known_facts, key=lambda x: str(x))  # Ensures {B, C} order\n",
        "\n",
        "# Define symbols\n",
        "A, B, C = symbols('A B C')\n",
        "\n",
        "# Initialize the logic learning system\n",
        "system = LogicLearningSystem()\n",
        "\n",
        "# Add rules\n",
        "system.add_rule(Implies(A, B))  # A → B\n",
        "system.add_rule(Implies(B, C))  # B → C\n",
        "\n",
        "# Add examples\n",
        "system.add_example(A)  # Given A is true\n",
        "\n",
        "# Infer new knowledge\n",
        "inferred = system.infer()\n",
        "print(\"Inferred Knowledge:\", inferred)\n"
      ]
    }
  ]
}